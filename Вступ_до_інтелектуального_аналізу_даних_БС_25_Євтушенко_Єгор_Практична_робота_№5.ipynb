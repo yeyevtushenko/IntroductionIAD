{
  "nbformat": 4,
  "nbformat_minor": 0,
  "metadata": {
    "colab": {
      "provenance": [],
      "toc_visible": true,
      "authorship_tag": "ABX9TyM8UM9wjs8Yz8hm/+zs+bo6",
      "include_colab_link": true
    },
    "kernelspec": {
      "name": "python3",
      "display_name": "Python 3"
    },
    "language_info": {
      "name": "python"
    }
  },
  "cells": [
    {
      "cell_type": "markdown",
      "metadata": {
        "id": "view-in-github",
        "colab_type": "text"
      },
      "source": [
        "<a href=\"https://colab.research.google.com/github/yeyevtushenko/IntroductionIAD/blob/main/%D0%92%D1%81%D1%82%D1%83%D0%BF_%D0%B4%D0%BE_%D1%96%D0%BD%D1%82%D0%B5%D0%BB%D0%B5%D0%BA%D1%82%D1%83%D0%B0%D0%BB%D1%8C%D0%BD%D0%BE%D0%B3%D0%BE_%D0%B0%D0%BD%D0%B0%D0%BB%D1%96%D0%B7%D1%83_%D0%B4%D0%B0%D0%BD%D0%B8%D1%85_%D0%91%D0%A1_25_%D0%84%D0%B2%D1%82%D1%83%D1%88%D0%B5%D0%BD%D0%BA%D0%BE_%D0%84%D0%B3%D0%BE%D1%80_%D0%9F%D1%80%D0%B0%D0%BA%D1%82%D0%B8%D1%87%D0%BD%D0%B0_%D1%80%D0%BE%D0%B1%D0%BE%D1%82%D0%B0_%E2%84%965.ipynb\" target=\"_parent\"><img src=\"https://colab.research.google.com/assets/colab-badge.svg\" alt=\"Open In Colab\"/></a>"
      ]
    },
    {
      "cell_type": "markdown",
      "source": [
        "# Практична №5"
      ],
      "metadata": {
        "id": "szRlkGf-mBY6"
      }
    },
    {
      "cell_type": "markdown",
      "source": [
        "# Теоретична частина"
      ],
      "metadata": {
        "id": "LyqAw1TWmgX4"
      }
    },
    {
      "cell_type": "markdown",
      "source": [
        "Лінійна регресія є основним методом аналізу залежностей між змінними, який дозволяє оцінювати вплив незалежних змінних на залежну змінну. У цьому підході прогнозована залежна змінна $𝑌$ моделюється як лінійна комбінація незалежних змінних $𝙓$ і параметрів моделі $α$."
      ],
      "metadata": {
        "id": "nil6wdV_Vjgb"
      }
    },
    {
      "cell_type": "markdown",
      "source": [
        "##Формули"
      ],
      "metadata": {
        "id": "h8L5QzJSCmi0"
      }
    },
    {
      "cell_type": "markdown",
      "source": [
        "###1.Матрична форма моделі лінійної регресії:"
      ],
      "metadata": {
        "id": "UiV5BlU3CtLb"
      }
    },
    {
      "cell_type": "markdown",
      "source": [
        "$$\n",
        "\\text{Модель лінійної регресії описується рівнянням:} \\\\\n",
        "Y = X \\cdot \\alpha + \\varepsilon \\\\\n",
        "\\text{, де:} \\\\\n",
        "\\text{• Y – вектор залежних змінних ;} \\\\\n",
        "\\text{• X – матриця незалежних змінних ;} \\\\\n",
        "\\text{• α – вектор параметрів моделі ;} \\\\\n",
        "\\text{• ɛ – вектор залишків.}\n",
        "$$\n",
        "\n"
      ],
      "metadata": {
        "id": "N7qxcukGDFnc"
      }
    },
    {
      "cell_type": "markdown",
      "source": [
        "###2. Критерій мінімізації методу найменших квадратів"
      ],
      "metadata": {
        "id": "RroU1ieuNqV0"
      }
    },
    {
      "cell_type": "markdown",
      "source": [
        "$$\n",
        "\\text{Критерій мінімізує суму квадратів залишків:}\\\\\n",
        "S(\\alpha) = \\sum_{i=1}^n \\left( Y_i - X_i \\cdot \\alpha \\right)\\text{.}\\\\\n",
        "\\text{ Мета: знайти значення α, які мінімізують S(α).}\\\\\n",
        "$$"
      ],
      "metadata": {
        "id": "cYUGju6SNtkS"
      }
    },
    {
      "cell_type": "markdown",
      "source": [
        "### 3.Формула для оцінки параметрів регресії у матричному вигляді"
      ],
      "metadata": {
        "id": "Moc9dMdLObOs"
      }
    },
    {
      "cell_type": "markdown",
      "source": [
        "$$\n",
        "\\text{Оцінка параметрів у матричній формі обчислюється за формулою:} \\\\\n",
        "\\alpha = \\left( X^T X \\right)^{-1} X^T Y \\\\\n",
        "\\text{, де:} \\\\\n",
        "\\text{• \\( X^T \\) – транспонована матриця незалежних змінних;} \\\\\n",
        "\\text{• \\( \\left( X^T X \\right)^{-1} \\) – обернена матриця.}\n",
        "$$\n"
      ],
      "metadata": {
        "id": "kYVI_jNsUy-I"
      }
    },
    {
      "cell_type": "markdown",
      "source": [
        "###4.Кутовий коефіцієнт ($α_1$) для простої лінійної регресії"
      ],
      "metadata": {
        "id": "gug06YF1OcuF"
      }
    },
    {
      "cell_type": "markdown",
      "source": [
        "$$\n",
        "\\text{Кутовий коефіцієнт ($\\alpha_1$) визначає нахил лінії регресії:}\\\\\n",
        "\\alpha_1 = \\frac{\\sum_{i=1}^n \\left( X_i - \\bar{X} \\right) \\left( Y_i - \\bar{Y} \\right)}{\\sum_{i=1}^n \\left( X_i - \\bar{X} \\right)^2}\n",
        "$$"
      ],
      "metadata": {
        "id": "3gBdSRVXUq3b"
      }
    },
    {
      "cell_type": "markdown",
      "source": [
        "###5. Вільний член($α_0$)"
      ],
      "metadata": {
        "id": "F9tv72n4O_7g"
      }
    },
    {
      "cell_type": "markdown",
      "source": [
        "$$\n",
        "\\text{Вільний член ($α_0$) визначає прогнозоване значення Y, коли X = 0:}\\\\\n",
        "{α_0} = \\bar{Y} - \\alpha_1 \\bar{X}\n",
        "$$"
      ],
      "metadata": {
        "id": "7DuZcuFcQcI8"
      }
    },
    {
      "cell_type": "markdown",
      "source": [
        "###6. Коефіцієнт кореляції ($𝑹$)"
      ],
      "metadata": {
        "id": "NrHyCqivPN5s"
      }
    },
    {
      "cell_type": "markdown",
      "source": [
        "$$\n",
        "\\text{Коефіцієнт кореляції показує силу лінійного зв’язку між Y і $\\hat{Y}$:}\\\\\n",
        "R = \\frac{\\sum_{i=1}^n \\left( Y_i - \\bar{Y} \\right) \\left( \\hat{Y}_i - \\bar{\\hat{Y}} \\right)}{\\sqrt{\\sum_{i=1}^n \\left( Y_i - \\bar{Y} \\right)^2 \\sum_{i=1}^n \\left( \\hat{Y}_i - \\bar{\\hat{Y}} \\right)^2}}\n",
        "$$"
      ],
      "metadata": {
        "id": "NyvMTGOqQWMp"
      }
    },
    {
      "cell_type": "markdown",
      "source": [
        "###7. Коефіцієнт детермінації ($𝑹^2$)"
      ],
      "metadata": {
        "id": "tpX7xlebPeld"
      }
    },
    {
      "cell_type": "markdown",
      "source": [
        "$$\n",
        "\\text{Коефіцієнт детермінації показує, яка частка варіації Y пояснюється моделлю:}\\\\\n",
        "R^2 = 1 - \\frac{\\sum_{i=1}^n \\left( Y_i - \\hat{Y}_i \\right)^2}{\\sum_{i=1}^n \\left( Y_i - \\bar{Y} \\right)^2}\n",
        "$$"
      ],
      "metadata": {
        "id": "8l4-PzZEQOzx"
      }
    },
    {
      "cell_type": "markdown",
      "source": [
        "###8. Середньоквадратичне відхилення (MSE)"
      ],
      "metadata": {
        "id": "pvCyywu8PqBZ"
      }
    },
    {
      "cell_type": "markdown",
      "source": [
        "$$\n",
        "\\text{MSE показує середню похибку моделі:}\\\\\n",
        "MSE = \\frac{1}{n} \\sum_{i=1}^n \\left( Y_i - \\hat{Y}_i \\right)^2\n",
        "$$"
      ],
      "metadata": {
        "id": "bzJCpUfRQJOe"
      }
    },
    {
      "cell_type": "markdown",
      "source": [
        "###9. Відносне середньоквадратичне відхилення (RMSE)"
      ],
      "metadata": {
        "id": "Uh_PHk0lPwTH"
      }
    },
    {
      "cell_type": "markdown",
      "source": [
        "$$\n",
        "\\text{RMSE - корінь із середньоквадратичного відхилення:}\\\\\n",
        "RMSE = \\sqrt{MSE}\n",
        "$$"
      ],
      "metadata": {
        "id": "CwjBNE_iQAAT"
      }
    },
    {
      "cell_type": "markdown",
      "source": [
        "### 10.Нормоване відносне середньоквадратичне відхилення (NRMSE)"
      ],
      "metadata": {
        "id": "Ydo7RMeXPz0Z"
      }
    },
    {
      "cell_type": "markdown",
      "source": [
        "$$\n",
        "\\text{NRMSE нормалізує похибку відносно середнього значення Y:}\\\\\n",
        "NRMSE = \\frac{RMSE}{\\bar{Y}} \\cdot 100\\%\n",
        "$$"
      ],
      "metadata": {
        "id": "l5RUf3G2P5nI"
      }
    },
    {
      "cell_type": "markdown",
      "source": [
        "###Додатково\n",
        "#Основні переваги лінійної регресії:\n",
        "\n",
        "- Простота реалізації і інтерпретації.\n",
        "- Можливість швидкої оцінки залежності між змінними.\n",
        "- Використання аналітичного рішення через матричну алгебру.\n",
        "#Обмеження:\n",
        "\n",
        "- Лінійна регресія працює лише для лінійних залежностей.\n",
        "- Чутливість до мультиколінеарності серед незалежних змінних.\n",
        "- Залежність точності моделі від якості даних і відсутності аномалій."
      ],
      "metadata": {
        "id": "ziI6xl0VWD-U"
      }
    },
    {
      "cell_type": "markdown",
      "source": [
        "# Практична частина"
      ],
      "metadata": {
        "id": "Tx4XGXSoWkum"
      }
    },
    {
      "cell_type": "markdown",
      "source": [
        "##Завантаження бібліотек"
      ],
      "metadata": {
        "id": "H2GJ4BefXKtb"
      }
    },
    {
      "cell_type": "code",
      "source": [
        "import numpy as np\n",
        "import pandas as pd\n",
        "import matplotlib.pyplot as plt\n",
        "from sklearn.metrics import r2_score, mean_squared_error"
      ],
      "metadata": {
        "id": "6PVsvr8QWA3c"
      },
      "execution_count": 4,
      "outputs": []
    },
    {
      "cell_type": "markdown",
      "source": [
        "## Без вільного члена"
      ],
      "metadata": {
        "id": "jY9nBjzCYMbu"
      }
    },
    {
      "cell_type": "markdown",
      "source": [
        "###Завантаження даних"
      ],
      "metadata": {
        "id": "qxplbHHFYr5c"
      }
    },
    {
      "cell_type": "code",
      "source": [
        "data = pd.read_csv(\"https://raw.githubusercontent.com/yeyevtushenko/IntroductionIAD/refs/heads/Data/%D0%94%D0%B0%D0%BD%D1%96%20%D0%B1%D0%B5%D0%B7%20%D0%B2%D1%96%D0%BB%D1%8C%D0%BD%D0%BE%D0%B3%D0%BE%20%D1%87%D0%BB%D0%B5%D0%BD%D0%B0.csv\")\n",
        "data = data.drop(\"Unnamed: 4\", axis=1)\n",
        "data"
      ],
      "metadata": {
        "colab": {
          "base_uri": "https://localhost:8080/",
          "height": 322
        },
        "id": "Zz4dLeZPYLN9",
        "outputId": "ef4d7c34-419b-4029-f533-dec32663c266"
      },
      "execution_count": 11,
      "outputs": [
        {
          "output_type": "execute_result",
          "data": {
            "text/plain": [
              "    N    Х1       Х2       Х3        Y\n",
              "0  О1  0.68  0.97101  1.00000  0.88525\n",
              "1  О2  0.45  0.92424  0.94595  0.97241\n",
              "2  О3  0.34  0.72222  1.08571  1.02941\n",
              "3  О4  0.66  0.93750  0.90476  1.06452\n",
              "4  О5  0.64  0.83607  0.88333  1.07143\n",
              "5  О6  0.51  0.94118  1.03774  0.84483\n",
              "6  О7  0.88  1.25000  0.67000  1.17000\n",
              "7  О8  0.50  0.71429  0.70455  1.00000\n",
              "8  О9  0.32  0.95122  1.07317  1.06061"
            ],
            "text/html": [
              "\n",
              "  <div id=\"df-75fa7188-f7f7-4782-935f-5f5b891e3c11\" class=\"colab-df-container\">\n",
              "    <div>\n",
              "<style scoped>\n",
              "    .dataframe tbody tr th:only-of-type {\n",
              "        vertical-align: middle;\n",
              "    }\n",
              "\n",
              "    .dataframe tbody tr th {\n",
              "        vertical-align: top;\n",
              "    }\n",
              "\n",
              "    .dataframe thead th {\n",
              "        text-align: right;\n",
              "    }\n",
              "</style>\n",
              "<table border=\"1\" class=\"dataframe\">\n",
              "  <thead>\n",
              "    <tr style=\"text-align: right;\">\n",
              "      <th></th>\n",
              "      <th>N</th>\n",
              "      <th>Х1</th>\n",
              "      <th>Х2</th>\n",
              "      <th>Х3</th>\n",
              "      <th>Y</th>\n",
              "    </tr>\n",
              "  </thead>\n",
              "  <tbody>\n",
              "    <tr>\n",
              "      <th>0</th>\n",
              "      <td>О1</td>\n",
              "      <td>0.68</td>\n",
              "      <td>0.97101</td>\n",
              "      <td>1.00000</td>\n",
              "      <td>0.88525</td>\n",
              "    </tr>\n",
              "    <tr>\n",
              "      <th>1</th>\n",
              "      <td>О2</td>\n",
              "      <td>0.45</td>\n",
              "      <td>0.92424</td>\n",
              "      <td>0.94595</td>\n",
              "      <td>0.97241</td>\n",
              "    </tr>\n",
              "    <tr>\n",
              "      <th>2</th>\n",
              "      <td>О3</td>\n",
              "      <td>0.34</td>\n",
              "      <td>0.72222</td>\n",
              "      <td>1.08571</td>\n",
              "      <td>1.02941</td>\n",
              "    </tr>\n",
              "    <tr>\n",
              "      <th>3</th>\n",
              "      <td>О4</td>\n",
              "      <td>0.66</td>\n",
              "      <td>0.93750</td>\n",
              "      <td>0.90476</td>\n",
              "      <td>1.06452</td>\n",
              "    </tr>\n",
              "    <tr>\n",
              "      <th>4</th>\n",
              "      <td>О5</td>\n",
              "      <td>0.64</td>\n",
              "      <td>0.83607</td>\n",
              "      <td>0.88333</td>\n",
              "      <td>1.07143</td>\n",
              "    </tr>\n",
              "    <tr>\n",
              "      <th>5</th>\n",
              "      <td>О6</td>\n",
              "      <td>0.51</td>\n",
              "      <td>0.94118</td>\n",
              "      <td>1.03774</td>\n",
              "      <td>0.84483</td>\n",
              "    </tr>\n",
              "    <tr>\n",
              "      <th>6</th>\n",
              "      <td>О7</td>\n",
              "      <td>0.88</td>\n",
              "      <td>1.25000</td>\n",
              "      <td>0.67000</td>\n",
              "      <td>1.17000</td>\n",
              "    </tr>\n",
              "    <tr>\n",
              "      <th>7</th>\n",
              "      <td>О8</td>\n",
              "      <td>0.50</td>\n",
              "      <td>0.71429</td>\n",
              "      <td>0.70455</td>\n",
              "      <td>1.00000</td>\n",
              "    </tr>\n",
              "    <tr>\n",
              "      <th>8</th>\n",
              "      <td>О9</td>\n",
              "      <td>0.32</td>\n",
              "      <td>0.95122</td>\n",
              "      <td>1.07317</td>\n",
              "      <td>1.06061</td>\n",
              "    </tr>\n",
              "  </tbody>\n",
              "</table>\n",
              "</div>\n",
              "    <div class=\"colab-df-buttons\">\n",
              "\n",
              "  <div class=\"colab-df-container\">\n",
              "    <button class=\"colab-df-convert\" onclick=\"convertToInteractive('df-75fa7188-f7f7-4782-935f-5f5b891e3c11')\"\n",
              "            title=\"Convert this dataframe to an interactive table.\"\n",
              "            style=\"display:none;\">\n",
              "\n",
              "  <svg xmlns=\"http://www.w3.org/2000/svg\" height=\"24px\" viewBox=\"0 -960 960 960\">\n",
              "    <path d=\"M120-120v-720h720v720H120Zm60-500h600v-160H180v160Zm220 220h160v-160H400v160Zm0 220h160v-160H400v160ZM180-400h160v-160H180v160Zm440 0h160v-160H620v160ZM180-180h160v-160H180v160Zm440 0h160v-160H620v160Z\"/>\n",
              "  </svg>\n",
              "    </button>\n",
              "\n",
              "  <style>\n",
              "    .colab-df-container {\n",
              "      display:flex;\n",
              "      gap: 12px;\n",
              "    }\n",
              "\n",
              "    .colab-df-convert {\n",
              "      background-color: #E8F0FE;\n",
              "      border: none;\n",
              "      border-radius: 50%;\n",
              "      cursor: pointer;\n",
              "      display: none;\n",
              "      fill: #1967D2;\n",
              "      height: 32px;\n",
              "      padding: 0 0 0 0;\n",
              "      width: 32px;\n",
              "    }\n",
              "\n",
              "    .colab-df-convert:hover {\n",
              "      background-color: #E2EBFA;\n",
              "      box-shadow: 0px 1px 2px rgba(60, 64, 67, 0.3), 0px 1px 3px 1px rgba(60, 64, 67, 0.15);\n",
              "      fill: #174EA6;\n",
              "    }\n",
              "\n",
              "    .colab-df-buttons div {\n",
              "      margin-bottom: 4px;\n",
              "    }\n",
              "\n",
              "    [theme=dark] .colab-df-convert {\n",
              "      background-color: #3B4455;\n",
              "      fill: #D2E3FC;\n",
              "    }\n",
              "\n",
              "    [theme=dark] .colab-df-convert:hover {\n",
              "      background-color: #434B5C;\n",
              "      box-shadow: 0px 1px 3px 1px rgba(0, 0, 0, 0.15);\n",
              "      filter: drop-shadow(0px 1px 2px rgba(0, 0, 0, 0.3));\n",
              "      fill: #FFFFFF;\n",
              "    }\n",
              "  </style>\n",
              "\n",
              "    <script>\n",
              "      const buttonEl =\n",
              "        document.querySelector('#df-75fa7188-f7f7-4782-935f-5f5b891e3c11 button.colab-df-convert');\n",
              "      buttonEl.style.display =\n",
              "        google.colab.kernel.accessAllowed ? 'block' : 'none';\n",
              "\n",
              "      async function convertToInteractive(key) {\n",
              "        const element = document.querySelector('#df-75fa7188-f7f7-4782-935f-5f5b891e3c11');\n",
              "        const dataTable =\n",
              "          await google.colab.kernel.invokeFunction('convertToInteractive',\n",
              "                                                    [key], {});\n",
              "        if (!dataTable) return;\n",
              "\n",
              "        const docLinkHtml = 'Like what you see? Visit the ' +\n",
              "          '<a target=\"_blank\" href=https://colab.research.google.com/notebooks/data_table.ipynb>data table notebook</a>'\n",
              "          + ' to learn more about interactive tables.';\n",
              "        element.innerHTML = '';\n",
              "        dataTable['output_type'] = 'display_data';\n",
              "        await google.colab.output.renderOutput(dataTable, element);\n",
              "        const docLink = document.createElement('div');\n",
              "        docLink.innerHTML = docLinkHtml;\n",
              "        element.appendChild(docLink);\n",
              "      }\n",
              "    </script>\n",
              "  </div>\n",
              "\n",
              "\n",
              "<div id=\"df-aa619412-3f61-41c4-9a12-4de2d70fd28d\">\n",
              "  <button class=\"colab-df-quickchart\" onclick=\"quickchart('df-aa619412-3f61-41c4-9a12-4de2d70fd28d')\"\n",
              "            title=\"Suggest charts\"\n",
              "            style=\"display:none;\">\n",
              "\n",
              "<svg xmlns=\"http://www.w3.org/2000/svg\" height=\"24px\"viewBox=\"0 0 24 24\"\n",
              "     width=\"24px\">\n",
              "    <g>\n",
              "        <path d=\"M19 3H5c-1.1 0-2 .9-2 2v14c0 1.1.9 2 2 2h14c1.1 0 2-.9 2-2V5c0-1.1-.9-2-2-2zM9 17H7v-7h2v7zm4 0h-2V7h2v10zm4 0h-2v-4h2v4z\"/>\n",
              "    </g>\n",
              "</svg>\n",
              "  </button>\n",
              "\n",
              "<style>\n",
              "  .colab-df-quickchart {\n",
              "      --bg-color: #E8F0FE;\n",
              "      --fill-color: #1967D2;\n",
              "      --hover-bg-color: #E2EBFA;\n",
              "      --hover-fill-color: #174EA6;\n",
              "      --disabled-fill-color: #AAA;\n",
              "      --disabled-bg-color: #DDD;\n",
              "  }\n",
              "\n",
              "  [theme=dark] .colab-df-quickchart {\n",
              "      --bg-color: #3B4455;\n",
              "      --fill-color: #D2E3FC;\n",
              "      --hover-bg-color: #434B5C;\n",
              "      --hover-fill-color: #FFFFFF;\n",
              "      --disabled-bg-color: #3B4455;\n",
              "      --disabled-fill-color: #666;\n",
              "  }\n",
              "\n",
              "  .colab-df-quickchart {\n",
              "    background-color: var(--bg-color);\n",
              "    border: none;\n",
              "    border-radius: 50%;\n",
              "    cursor: pointer;\n",
              "    display: none;\n",
              "    fill: var(--fill-color);\n",
              "    height: 32px;\n",
              "    padding: 0;\n",
              "    width: 32px;\n",
              "  }\n",
              "\n",
              "  .colab-df-quickchart:hover {\n",
              "    background-color: var(--hover-bg-color);\n",
              "    box-shadow: 0 1px 2px rgba(60, 64, 67, 0.3), 0 1px 3px 1px rgba(60, 64, 67, 0.15);\n",
              "    fill: var(--button-hover-fill-color);\n",
              "  }\n",
              "\n",
              "  .colab-df-quickchart-complete:disabled,\n",
              "  .colab-df-quickchart-complete:disabled:hover {\n",
              "    background-color: var(--disabled-bg-color);\n",
              "    fill: var(--disabled-fill-color);\n",
              "    box-shadow: none;\n",
              "  }\n",
              "\n",
              "  .colab-df-spinner {\n",
              "    border: 2px solid var(--fill-color);\n",
              "    border-color: transparent;\n",
              "    border-bottom-color: var(--fill-color);\n",
              "    animation:\n",
              "      spin 1s steps(1) infinite;\n",
              "  }\n",
              "\n",
              "  @keyframes spin {\n",
              "    0% {\n",
              "      border-color: transparent;\n",
              "      border-bottom-color: var(--fill-color);\n",
              "      border-left-color: var(--fill-color);\n",
              "    }\n",
              "    20% {\n",
              "      border-color: transparent;\n",
              "      border-left-color: var(--fill-color);\n",
              "      border-top-color: var(--fill-color);\n",
              "    }\n",
              "    30% {\n",
              "      border-color: transparent;\n",
              "      border-left-color: var(--fill-color);\n",
              "      border-top-color: var(--fill-color);\n",
              "      border-right-color: var(--fill-color);\n",
              "    }\n",
              "    40% {\n",
              "      border-color: transparent;\n",
              "      border-right-color: var(--fill-color);\n",
              "      border-top-color: var(--fill-color);\n",
              "    }\n",
              "    60% {\n",
              "      border-color: transparent;\n",
              "      border-right-color: var(--fill-color);\n",
              "    }\n",
              "    80% {\n",
              "      border-color: transparent;\n",
              "      border-right-color: var(--fill-color);\n",
              "      border-bottom-color: var(--fill-color);\n",
              "    }\n",
              "    90% {\n",
              "      border-color: transparent;\n",
              "      border-bottom-color: var(--fill-color);\n",
              "    }\n",
              "  }\n",
              "</style>\n",
              "\n",
              "  <script>\n",
              "    async function quickchart(key) {\n",
              "      const quickchartButtonEl =\n",
              "        document.querySelector('#' + key + ' button');\n",
              "      quickchartButtonEl.disabled = true;  // To prevent multiple clicks.\n",
              "      quickchartButtonEl.classList.add('colab-df-spinner');\n",
              "      try {\n",
              "        const charts = await google.colab.kernel.invokeFunction(\n",
              "            'suggestCharts', [key], {});\n",
              "      } catch (error) {\n",
              "        console.error('Error during call to suggestCharts:', error);\n",
              "      }\n",
              "      quickchartButtonEl.classList.remove('colab-df-spinner');\n",
              "      quickchartButtonEl.classList.add('colab-df-quickchart-complete');\n",
              "    }\n",
              "    (() => {\n",
              "      let quickchartButtonEl =\n",
              "        document.querySelector('#df-aa619412-3f61-41c4-9a12-4de2d70fd28d button');\n",
              "      quickchartButtonEl.style.display =\n",
              "        google.colab.kernel.accessAllowed ? 'block' : 'none';\n",
              "    })();\n",
              "  </script>\n",
              "</div>\n",
              "    </div>\n",
              "  </div>\n"
            ],
            "application/vnd.google.colaboratory.intrinsic+json": {
              "type": "dataframe",
              "variable_name": "data",
              "summary": "{\n  \"name\": \"data\",\n  \"rows\": 9,\n  \"fields\": [\n    {\n      \"column\": \"N\",\n      \"properties\": {\n        \"dtype\": \"string\",\n        \"num_unique_values\": 9,\n        \"samples\": [\n          \"\\u041e8\",\n          \"\\u041e2\",\n          \"\\u041e6\"\n        ],\n        \"semantic_type\": \"\",\n        \"description\": \"\"\n      }\n    },\n    {\n      \"column\": \"\\u04251\",\n      \"properties\": {\n        \"dtype\": \"number\",\n        \"std\": 0.1792344832893492,\n        \"min\": 0.32,\n        \"max\": 0.88,\n        \"num_unique_values\": 9,\n        \"samples\": [\n          0.5,\n          0.45,\n          0.51\n        ],\n        \"semantic_type\": \"\",\n        \"description\": \"\"\n      }\n    },\n    {\n      \"column\": \"\\u04252\",\n      \"properties\": {\n        \"dtype\": \"number\",\n        \"std\": 0.15874964567764485,\n        \"min\": 0.71429,\n        \"max\": 1.25,\n        \"num_unique_values\": 9,\n        \"samples\": [\n          0.71429,\n          0.92424,\n          0.94118\n        ],\n        \"semantic_type\": \"\",\n        \"description\": \"\"\n      }\n    },\n    {\n      \"column\": \"\\u04253\",\n      \"properties\": {\n        \"dtype\": \"number\",\n        \"std\": 0.15094783705343745,\n        \"min\": 0.67,\n        \"max\": 1.08571,\n        \"num_unique_values\": 9,\n        \"samples\": [\n          0.70455,\n          0.94595,\n          1.03774\n        ],\n        \"semantic_type\": \"\",\n        \"description\": \"\"\n      }\n    },\n    {\n      \"column\": \"Y\",\n      \"properties\": {\n        \"dtype\": \"number\",\n        \"std\": 0.09977032537282818,\n        \"min\": 0.84483,\n        \"max\": 1.17,\n        \"num_unique_values\": 9,\n        \"samples\": [\n          1.0,\n          0.97241,\n          0.84483\n        ],\n        \"semantic_type\": \"\",\n        \"description\": \"\"\n      }\n    }\n  ]\n}"
            }
          },
          "metadata": {},
          "execution_count": 11
        }
      ]
    },
    {
      "cell_type": "markdown",
      "source": [
        "#### Перевіряємо назви колонок у таблиці"
      ],
      "metadata": {
        "id": "7TooGvf7bHb3"
      }
    },
    {
      "cell_type": "code",
      "source": [
        "data.columns"
      ],
      "metadata": {
        "colab": {
          "base_uri": "https://localhost:8080/"
        },
        "id": "b1rXzGEZbKix",
        "outputId": "a2e176cd-e87d-434e-8995-140cd942483c"
      },
      "execution_count": 13,
      "outputs": [
        {
          "output_type": "execute_result",
          "data": {
            "text/plain": [
              "Index(['N', 'Х1', 'Х2', 'Х3', 'Y'], dtype='object')"
            ]
          },
          "metadata": {},
          "execution_count": 13
        }
      ]
    },
    {
      "cell_type": "markdown",
      "source": [
        "###Побудова моделі\n",
        "1. Формуємо матрицю незалежних змінних $𝙓$ і вектор залежних змінних $𝒀$.\n",
        "2. Обчислюємо параметри моделі α за допомогою формули МНК."
      ],
      "metadata": {
        "id": "y5wqm8WDaSDd"
      }
    },
    {
      "cell_type": "code",
      "source": [
        "# Розділяємо змінні\n",
        "X = data[['Х1', 'Х2', 'Х3']].values  # Незалежні змінні\n",
        "Y = data['Y'].values.reshape(-1, 1)  # Залежна змінна\n",
        "\n",
        "# Розрахунок параметрів моделі за формулою МНК\n",
        "alpha = np.linalg.inv(X.T @ X) @ X.T @ Y\n",
        "\n",
        "# Виводимо отримані параметри\n",
        "print(\"Параметри моделі (alpha):\\n\", alpha)"
      ],
      "metadata": {
        "colab": {
          "base_uri": "https://localhost:8080/"
        },
        "id": "mU3rkjtbaTRn",
        "outputId": "c69fd0f1-8530-4f17-f344-401e04897bfb"
      },
      "execution_count": 14,
      "outputs": [
        {
          "output_type": "stream",
          "name": "stdout",
          "text": [
            "Параметри моделі (alpha):\n",
            " [[0.35740316]\n",
            " [0.40443859]\n",
            " [0.47019153]]\n"
          ]
        }
      ]
    },
    {
      "cell_type": "markdown",
      "source": [
        "###Оцінка якості моделі\n",
        "1. Прогнозуємо $𝑌$ і $\\hat{Y}$на основі моделі.\n",
        "2. Розраховуємо метрики якості: $R^2$, MSE, RMSE, NRMSE."
      ],
      "metadata": {
        "id": "Jid6o8gabrOM"
      }
    },
    {
      "cell_type": "code",
      "source": [
        "# Прогнозування\n",
        "Y_pred = X @ alpha\n",
        "\n",
        "# Розрахунок метрик\n",
        "r2 = r2_score(Y, Y_pred)\n",
        "mse = mean_squared_error(Y, Y_pred)\n",
        "rmse = np.sqrt(mse)\n",
        "nrmse = rmse / np.mean(Y) * 100\n",
        "\n",
        "# Виводимо метрики\n",
        "print(f\"R^2: {r2}\")\n",
        "print(f\"MSE: {mse}\")\n",
        "print(f\"RMSE: {rmse}\")\n",
        "print(f\"NRMSE: {nrmse}%\")"
      ],
      "metadata": {
        "colab": {
          "base_uri": "https://localhost:8080/"
        },
        "id": "Cld_vEOsbsqP",
        "outputId": "a6a12e48-2269-4650-95cf-add84ac58344"
      },
      "execution_count": 16,
      "outputs": [
        {
          "output_type": "stream",
          "name": "stdout",
          "text": [
            "R^2: -0.9558182092965015\n",
            "MSE: 0.0173052843552159\n",
            "RMSE: 0.13154955095026322\n",
            "NRMSE: 13.012597280774646%\n"
          ]
        }
      ]
    },
    {
      "cell_type": "markdown",
      "source": [
        "###Візуалізація моделі\n",
        "Порівнюємо фактичні значення $𝑌$ з прогнозованими $\\hat{Y}$."
      ],
      "metadata": {
        "id": "YQHo06GwcdAe"
      }
    },
    {
      "cell_type": "code",
      "source": [
        "# Візуалізація\n",
        "plt.figure(figsize=(10, 6))\n",
        "plt.plot(Y, label=\"Фактичні значення\", marker='o')\n",
        "plt.plot(Y_pred, label=\"Прогнозовані значення\", marker='x')\n",
        "plt.title(\"Порівняння фактичних і прогнозованих значень\")\n",
        "plt.xlabel(\"Індекс\")\n",
        "plt.ylabel(\"Y\")\n",
        "plt.legend()\n",
        "plt.grid()\n",
        "plt.show()"
      ],
      "metadata": {
        "colab": {
          "base_uri": "https://localhost:8080/",
          "height": 563
        },
        "id": "EIosyL4MczEH",
        "outputId": "c66cab2d-1356-4b01-f2d5-941811c920e5"
      },
      "execution_count": 17,
      "outputs": [
        {
          "output_type": "display_data",
          "data": {
            "text/plain": [
              "<Figure size 1000x600 with 1 Axes>"
            ],
            "image/png": "[encoded data removed]"
          },
          "metadata": {}
        }
      ]
    },
    {
      "cell_type": "markdown",
      "source": [
        "## З вільним членом"
      ],
      "metadata": {
        "id": "i1Q7Vx6KYcv7"
      }
    },
    {
      "cell_type": "markdown",
      "source": [
        "###Завантаження даних"
      ],
      "metadata": {
        "id": "vPbiyG6RdW2K"
      }
    },
    {
      "cell_type": "code",
      "source": [
        "data = pd.read_csv(\"https://raw.githubusercontent.com/yeyevtushenko/IntroductionIAD/refs/heads/Data/%D0%94%D0%B0%D0%BD%D1%96%20%D0%B7%20%D0%B2%D1%96%D0%BB%D1%8C%D0%BD%D0%B8%D0%BC%20%D1%87%D0%BB%D0%B5%D0%BD%D0%BE%D0%BC.csv\")\n",
        "data = data.drop(\"Unnamed: 5\", axis=1)\n",
        "data"
      ],
      "metadata": {
        "colab": {
          "base_uri": "https://localhost:8080/",
          "height": 322
        },
        "id": "0XXmBkhEdbxm",
        "outputId": "c797b2aa-1e7a-45af-b17d-b9dfd7ac43b8"
      },
      "execution_count": 18,
      "outputs": [
        {
          "output_type": "execute_result",
          "data": {
            "text/plain": [
              "    Х  Х0    Х1       Х2       Х3        Y\n",
              "0  О1   1  0.68  0.97101  1.00000  0.88525\n",
              "1  О2   1  0.45  0.92424  0.94595  0.97241\n",
              "2  О3   1  0.34  0.72222  1.08571  1.02941\n",
              "3  О4   1  0.66  0.93750  0.90476  1.06452\n",
              "4  О5   1  0.64  0.83607  0.88333  1.07143\n",
              "5  О6   1  0.51  0.94118  1.03774  0.84483\n",
              "6  О7   1  0.88  1.25000  0.67000  1.17000\n",
              "7  О8   1  0.50  0.71429  0.70455  1.00000\n",
              "8  О9   1  0.32  0.95122  1.07317  1.06061"
            ],
            "text/html": [
              "\n",
              "  <div id=\"df-aed7e4ee-591b-4718-a22a-aba3bf5375f3\" class=\"colab-df-container\">\n",
              "    <div>\n",
              "<style scoped>\n",
              "    .dataframe tbody tr th:only-of-type {\n",
              "        vertical-align: middle;\n",
              "    }\n",
              "\n",
              "    .dataframe tbody tr th {\n",
              "        vertical-align: top;\n",
              "    }\n",
              "\n",
              "    .dataframe thead th {\n",
              "        text-align: right;\n",
              "    }\n",
              "</style>\n",
              "<table border=\"1\" class=\"dataframe\">\n",
              "  <thead>\n",
              "    <tr style=\"text-align: right;\">\n",
              "      <th></th>\n",
              "      <th>Х</th>\n",
              "      <th>Х0</th>\n",
              "      <th>Х1</th>\n",
              "      <th>Х2</th>\n",
              "      <th>Х3</th>\n",
              "      <th>Y</th>\n",
              "    </tr>\n",
              "  </thead>\n",
              "  <tbody>\n",
              "    <tr>\n",
              "      <th>0</th>\n",
              "      <td>О1</td>\n",
              "      <td>1</td>\n",
              "      <td>0.68</td>\n",
              "      <td>0.97101</td>\n",
              "      <td>1.00000</td>\n",
              "      <td>0.88525</td>\n",
              "    </tr>\n",
              "    <tr>\n",
              "      <th>1</th>\n",
              "      <td>О2</td>\n",
              "      <td>1</td>\n",
              "      <td>0.45</td>\n",
              "      <td>0.92424</td>\n",
              "      <td>0.94595</td>\n",
              "      <td>0.97241</td>\n",
              "    </tr>\n",
              "    <tr>\n",
              "      <th>2</th>\n",
              "      <td>О3</td>\n",
              "      <td>1</td>\n",
              "      <td>0.34</td>\n",
              "      <td>0.72222</td>\n",
              "      <td>1.08571</td>\n",
              "      <td>1.02941</td>\n",
              "    </tr>\n",
              "    <tr>\n",
              "      <th>3</th>\n",
              "      <td>О4</td>\n",
              "      <td>1</td>\n",
              "      <td>0.66</td>\n",
              "      <td>0.93750</td>\n",
              "      <td>0.90476</td>\n",
              "      <td>1.06452</td>\n",
              "    </tr>\n",
              "    <tr>\n",
              "      <th>4</th>\n",
              "      <td>О5</td>\n",
              "      <td>1</td>\n",
              "      <td>0.64</td>\n",
              "      <td>0.83607</td>\n",
              "      <td>0.88333</td>\n",
              "      <td>1.07143</td>\n",
              "    </tr>\n",
              "    <tr>\n",
              "      <th>5</th>\n",
              "      <td>О6</td>\n",
              "      <td>1</td>\n",
              "      <td>0.51</td>\n",
              "      <td>0.94118</td>\n",
              "      <td>1.03774</td>\n",
              "      <td>0.84483</td>\n",
              "    </tr>\n",
              "    <tr>\n",
              "      <th>6</th>\n",
              "      <td>О7</td>\n",
              "      <td>1</td>\n",
              "      <td>0.88</td>\n",
              "      <td>1.25000</td>\n",
              "      <td>0.67000</td>\n",
              "      <td>1.17000</td>\n",
              "    </tr>\n",
              "    <tr>\n",
              "      <th>7</th>\n",
              "      <td>О8</td>\n",
              "      <td>1</td>\n",
              "      <td>0.50</td>\n",
              "      <td>0.71429</td>\n",
              "      <td>0.70455</td>\n",
              "      <td>1.00000</td>\n",
              "    </tr>\n",
              "    <tr>\n",
              "      <th>8</th>\n",
              "      <td>О9</td>\n",
              "      <td>1</td>\n",
              "      <td>0.32</td>\n",
              "      <td>0.95122</td>\n",
              "      <td>1.07317</td>\n",
              "      <td>1.06061</td>\n",
              "    </tr>\n",
              "  </tbody>\n",
              "</table>\n",
              "</div>\n",
              "    <div class=\"colab-df-buttons\">\n",
              "\n",
              "  <div class=\"colab-df-container\">\n",
              "    <button class=\"colab-df-convert\" onclick=\"convertToInteractive('df-aed7e4ee-591b-4718-a22a-aba3bf5375f3')\"\n",
              "            title=\"Convert this dataframe to an interactive table.\"\n",
              "            style=\"display:none;\">\n",
              "\n",
              "  <svg xmlns=\"http://www.w3.org/2000/svg\" height=\"24px\" viewBox=\"0 -960 960 960\">\n",
              "    <path d=\"M120-120v-720h720v720H120Zm60-500h600v-160H180v160Zm220 220h160v-160H400v160Zm0 220h160v-160H400v160ZM180-400h160v-160H180v160Zm440 0h160v-160H620v160ZM180-180h160v-160H180v160Zm440 0h160v-160H620v160Z\"/>\n",
              "  </svg>\n",
              "    </button>\n",
              "\n",
              "  <style>\n",
              "    .colab-df-container {\n",
              "      display:flex;\n",
              "      gap: 12px;\n",
              "    }\n",
              "\n",
              "    .colab-df-convert {\n",
              "      background-color: #E8F0FE;\n",
              "      border: none;\n",
              "      border-radius: 50%;\n",
              "      cursor: pointer;\n",
              "      display: none;\n",
              "      fill: #1967D2;\n",
              "      height: 32px;\n",
              "      padding: 0 0 0 0;\n",
              "      width: 32px;\n",
              "    }\n",
              "\n",
              "    .colab-df-convert:hover {\n",
              "      background-color: #E2EBFA;\n",
              "      box-shadow: 0px 1px 2px rgba(60, 64, 67, 0.3), 0px 1px 3px 1px rgba(60, 64, 67, 0.15);\n",
              "      fill: #174EA6;\n",
              "    }\n",
              "\n",
              "    .colab-df-buttons div {\n",
              "      margin-bottom: 4px;\n",
              "    }\n",
              "\n",
              "    [theme=dark] .colab-df-convert {\n",
              "      background-color: #3B4455;\n",
              "      fill: #D2E3FC;\n",
              "    }\n",
              "\n",
              "    [theme=dark] .colab-df-convert:hover {\n",
              "      background-color: #434B5C;\n",
              "      box-shadow: 0px 1px 3px 1px rgba(0, 0, 0, 0.15);\n",
              "      filter: drop-shadow(0px 1px 2px rgba(0, 0, 0, 0.3));\n",
              "      fill: #FFFFFF;\n",
              "    }\n",
              "  </style>\n",
              "\n",
              "    <script>\n",
              "      const buttonEl =\n",
              "        document.querySelector('#df-aed7e4ee-591b-4718-a22a-aba3bf5375f3 button.colab-df-convert');\n",
              "      buttonEl.style.display =\n",
              "        google.colab.kernel.accessAllowed ? 'block' : 'none';\n",
              "\n",
              "      async function convertToInteractive(key) {\n",
              "        const element = document.querySelector('#df-aed7e4ee-591b-4718-a22a-aba3bf5375f3');\n",
              "        const dataTable =\n",
              "          await google.colab.kernel.invokeFunction('convertToInteractive',\n",
              "                                                    [key], {});\n",
              "        if (!dataTable) return;\n",
              "\n",
              "        const docLinkHtml = 'Like what you see? Visit the ' +\n",
              "          '<a target=\"_blank\" href=https://colab.research.google.com/notebooks/data_table.ipynb>data table notebook</a>'\n",
              "          + ' to learn more about interactive tables.';\n",
              "        element.innerHTML = '';\n",
              "        dataTable['output_type'] = 'display_data';\n",
              "        await google.colab.output.renderOutput(dataTable, element);\n",
              "        const docLink = document.createElement('div');\n",
              "        docLink.innerHTML = docLinkHtml;\n",
              "        element.appendChild(docLink);\n",
              "      }\n",
              "    </script>\n",
              "  </div>\n",
              "\n",
              "\n",
              "<div id=\"df-d76ebaf9-3ca5-4178-886e-e6865cb1b229\">\n",
              "  <button class=\"colab-df-quickchart\" onclick=\"quickchart('df-d76ebaf9-3ca5-4178-886e-e6865cb1b229')\"\n",
              "            title=\"Suggest charts\"\n",
              "            style=\"display:none;\">\n",
              "\n",
              "<svg xmlns=\"http://www.w3.org/2000/svg\" height=\"24px\"viewBox=\"0 0 24 24\"\n",
              "     width=\"24px\">\n",
              "    <g>\n",
              "        <path d=\"M19 3H5c-1.1 0-2 .9-2 2v14c0 1.1.9 2 2 2h14c1.1 0 2-.9 2-2V5c0-1.1-.9-2-2-2zM9 17H7v-7h2v7zm4 0h-2V7h2v10zm4 0h-2v-4h2v4z\"/>\n",
              "    </g>\n",
              "</svg>\n",
              "  </button>\n",
              "\n",
              "<style>\n",
              "  .colab-df-quickchart {\n",
              "      --bg-color: #E8F0FE;\n",
              "      --fill-color: #1967D2;\n",
              "      --hover-bg-color: #E2EBFA;\n",
              "      --hover-fill-color: #174EA6;\n",
              "      --disabled-fill-color: #AAA;\n",
              "      --disabled-bg-color: #DDD;\n",
              "  }\n",
              "\n",
              "  [theme=dark] .colab-df-quickchart {\n",
              "      --bg-color: #3B4455;\n",
              "      --fill-color: #D2E3FC;\n",
              "      --hover-bg-color: #434B5C;\n",
              "      --hover-fill-color: #FFFFFF;\n",
              "      --disabled-bg-color: #3B4455;\n",
              "      --disabled-fill-color: #666;\n",
              "  }\n",
              "\n",
              "  .colab-df-quickchart {\n",
              "    background-color: var(--bg-color);\n",
              "    border: none;\n",
              "    border-radius: 50%;\n",
              "    cursor: pointer;\n",
              "    display: none;\n",
              "    fill: var(--fill-color);\n",
              "    height: 32px;\n",
              "    padding: 0;\n",
              "    width: 32px;\n",
              "  }\n",
              "\n",
              "  .colab-df-quickchart:hover {\n",
              "    background-color: var(--hover-bg-color);\n",
              "    box-shadow: 0 1px 2px rgba(60, 64, 67, 0.3), 0 1px 3px 1px rgba(60, 64, 67, 0.15);\n",
              "    fill: var(--button-hover-fill-color);\n",
              "  }\n",
              "\n",
              "  .colab-df-quickchart-complete:disabled,\n",
              "  .colab-df-quickchart-complete:disabled:hover {\n",
              "    background-color: var(--disabled-bg-color);\n",
              "    fill: var(--disabled-fill-color);\n",
              "    box-shadow: none;\n",
              "  }\n",
              "\n",
              "  .colab-df-spinner {\n",
              "    border: 2px solid var(--fill-color);\n",
              "    border-color: transparent;\n",
              "    border-bottom-color: var(--fill-color);\n",
              "    animation:\n",
              "      spin 1s steps(1) infinite;\n",
              "  }\n",
              "\n",
              "  @keyframes spin {\n",
              "    0% {\n",
              "      border-color: transparent;\n",
              "      border-bottom-color: var(--fill-color);\n",
              "      border-left-color: var(--fill-color);\n",
              "    }\n",
              "    20% {\n",
              "      border-color: transparent;\n",
              "      border-left-color: var(--fill-color);\n",
              "      border-top-color: var(--fill-color);\n",
              "    }\n",
              "    30% {\n",
              "      border-color: transparent;\n",
              "      border-left-color: var(--fill-color);\n",
              "      border-top-color: var(--fill-color);\n",
              "      border-right-color: var(--fill-color);\n",
              "    }\n",
              "    40% {\n",
              "      border-color: transparent;\n",
              "      border-right-color: var(--fill-color);\n",
              "      border-top-color: var(--fill-color);\n",
              "    }\n",
              "    60% {\n",
              "      border-color: transparent;\n",
              "      border-right-color: var(--fill-color);\n",
              "    }\n",
              "    80% {\n",
              "      border-color: transparent;\n",
              "      border-right-color: var(--fill-color);\n",
              "      border-bottom-color: var(--fill-color);\n",
              "    }\n",
              "    90% {\n",
              "      border-color: transparent;\n",
              "      border-bottom-color: var(--fill-color);\n",
              "    }\n",
              "  }\n",
              "</style>\n",
              "\n",
              "  <script>\n",
              "    async function quickchart(key) {\n",
              "      const quickchartButtonEl =\n",
              "        document.querySelector('#' + key + ' button');\n",
              "      quickchartButtonEl.disabled = true;  // To prevent multiple clicks.\n",
              "      quickchartButtonEl.classList.add('colab-df-spinner');\n",
              "      try {\n",
              "        const charts = await google.colab.kernel.invokeFunction(\n",
              "            'suggestCharts', [key], {});\n",
              "      } catch (error) {\n",
              "        console.error('Error during call to suggestCharts:', error);\n",
              "      }\n",
              "      quickchartButtonEl.classList.remove('colab-df-spinner');\n",
              "      quickchartButtonEl.classList.add('colab-df-quickchart-complete');\n",
              "    }\n",
              "    (() => {\n",
              "      let quickchartButtonEl =\n",
              "        document.querySelector('#df-d76ebaf9-3ca5-4178-886e-e6865cb1b229 button');\n",
              "      quickchartButtonEl.style.display =\n",
              "        google.colab.kernel.accessAllowed ? 'block' : 'none';\n",
              "    })();\n",
              "  </script>\n",
              "</div>\n",
              "    </div>\n",
              "  </div>\n"
            ],
            "application/vnd.google.colaboratory.intrinsic+json": {
              "type": "dataframe",
              "variable_name": "data",
              "summary": "{\n  \"name\": \"data\",\n  \"rows\": 9,\n  \"fields\": [\n    {\n      \"column\": \"\\u0425\",\n      \"properties\": {\n        \"dtype\": \"string\",\n        \"num_unique_values\": 9,\n        \"samples\": [\n          \"\\u041e8\",\n          \"\\u041e2\",\n          \"\\u041e6\"\n        ],\n        \"semantic_type\": \"\",\n        \"description\": \"\"\n      }\n    },\n    {\n      \"column\": \"\\u04250\",\n      \"properties\": {\n        \"dtype\": \"number\",\n        \"std\": 0,\n        \"min\": 1,\n        \"max\": 1,\n        \"num_unique_values\": 1,\n        \"samples\": [\n          1\n        ],\n        \"semantic_type\": \"\",\n        \"description\": \"\"\n      }\n    },\n    {\n      \"column\": \"\\u04251\",\n      \"properties\": {\n        \"dtype\": \"number\",\n        \"std\": 0.1792344832893492,\n        \"min\": 0.32,\n        \"max\": 0.88,\n        \"num_unique_values\": 9,\n        \"samples\": [\n          0.5\n        ],\n        \"semantic_type\": \"\",\n        \"description\": \"\"\n      }\n    },\n    {\n      \"column\": \"\\u04252\",\n      \"properties\": {\n        \"dtype\": \"number\",\n        \"std\": 0.15874964567764485,\n        \"min\": 0.71429,\n        \"max\": 1.25,\n        \"num_unique_values\": 9,\n        \"samples\": [\n          0.71429\n        ],\n        \"semantic_type\": \"\",\n        \"description\": \"\"\n      }\n    },\n    {\n      \"column\": \"\\u04253\",\n      \"properties\": {\n        \"dtype\": \"number\",\n        \"std\": 0.15094783705343745,\n        \"min\": 0.67,\n        \"max\": 1.08571,\n        \"num_unique_values\": 9,\n        \"samples\": [\n          0.70455\n        ],\n        \"semantic_type\": \"\",\n        \"description\": \"\"\n      }\n    },\n    {\n      \"column\": \"Y\",\n      \"properties\": {\n        \"dtype\": \"number\",\n        \"std\": 0.09977032537282818,\n        \"min\": 0.84483,\n        \"max\": 1.17,\n        \"num_unique_values\": 9,\n        \"samples\": [\n          1.0\n        ],\n        \"semantic_type\": \"\",\n        \"description\": \"\"\n      }\n    }\n  ]\n}"
            }
          },
          "metadata": {},
          "execution_count": 18
        }
      ]
    },
    {
      "cell_type": "markdown",
      "source": [
        "### Додаємо стовпець константи (номер варіанту)"
      ],
      "metadata": {
        "id": "C3EXH7QqdqYw"
      }
    },
    {
      "cell_type": "code",
      "source": [
        "# Введення номера варіанту користувачем\n",
        "const = int(input(\"Введіть номер вашого варіанту: \"))\n",
        "\n",
        "# Додаємо стовпець константи до даних\n",
        "data['Х0'] = const\n",
        "\n",
        "# Перевіряємо, чи додано стовпець\n",
        "data"
      ],
      "metadata": {
        "colab": {
          "base_uri": "https://localhost:8080/",
          "height": 338
        },
        "id": "MC9tFMGoeKQ4",
        "outputId": "3c68c9ad-d868-4430-8e17-49e1ad691a08"
      },
      "execution_count": 20,
      "outputs": [
        {
          "name": "stdout",
          "output_type": "stream",
          "text": [
            "Введіть номер вашого варіанту: 8\n"
          ]
        },
        {
          "output_type": "execute_result",
          "data": {
            "text/plain": [
              "    Х  Х0    Х1       Х2       Х3        Y\n",
              "0  О1   8  0.68  0.97101  1.00000  0.88525\n",
              "1  О2   8  0.45  0.92424  0.94595  0.97241\n",
              "2  О3   8  0.34  0.72222  1.08571  1.02941\n",
              "3  О4   8  0.66  0.93750  0.90476  1.06452\n",
              "4  О5   8  0.64  0.83607  0.88333  1.07143\n",
              "5  О6   8  0.51  0.94118  1.03774  0.84483\n",
              "6  О7   8  0.88  1.25000  0.67000  1.17000\n",
              "7  О8   8  0.50  0.71429  0.70455  1.00000\n",
              "8  О9   8  0.32  0.95122  1.07317  1.06061"
            ],
            "text/html": [
              "\n",
              "  <div id=\"df-1c7b544c-76ec-4649-82f7-1fd5c19c6840\" class=\"colab-df-container\">\n",
              "    <div>\n",
              "<style scoped>\n",
              "    .dataframe tbody tr th:only-of-type {\n",
              "        vertical-align: middle;\n",
              "    }\n",
              "\n",
              "    .dataframe tbody tr th {\n",
              "        vertical-align: top;\n",
              "    }\n",
              "\n",
              "    .dataframe thead th {\n",
              "        text-align: right;\n",
              "    }\n",
              "</style>\n",
              "<table border=\"1\" class=\"dataframe\">\n",
              "  <thead>\n",
              "    <tr style=\"text-align: right;\">\n",
              "      <th></th>\n",
              "      <th>Х</th>\n",
              "      <th>Х0</th>\n",
              "      <th>Х1</th>\n",
              "      <th>Х2</th>\n",
              "      <th>Х3</th>\n",
              "      <th>Y</th>\n",
              "    </tr>\n",
              "  </thead>\n",
              "  <tbody>\n",
              "    <tr>\n",
              "      <th>0</th>\n",
              "      <td>О1</td>\n",
              "      <td>8</td>\n",
              "      <td>0.68</td>\n",
              "      <td>0.97101</td>\n",
              "      <td>1.00000</td>\n",
              "      <td>0.88525</td>\n",
              "    </tr>\n",
              "    <tr>\n",
              "      <th>1</th>\n",
              "      <td>О2</td>\n",
              "      <td>8</td>\n",
              "      <td>0.45</td>\n",
              "      <td>0.92424</td>\n",
              "      <td>0.94595</td>\n",
              "      <td>0.97241</td>\n",
              "    </tr>\n",
              "    <tr>\n",
              "      <th>2</th>\n",
              "      <td>О3</td>\n",
              "      <td>8</td>\n",
              "      <td>0.34</td>\n",
              "      <td>0.72222</td>\n",
              "      <td>1.08571</td>\n",
              "      <td>1.02941</td>\n",
              "    </tr>\n",
              "    <tr>\n",
              "      <th>3</th>\n",
              "      <td>О4</td>\n",
              "      <td>8</td>\n",
              "      <td>0.66</td>\n",
              "      <td>0.93750</td>\n",
              "      <td>0.90476</td>\n",
              "      <td>1.06452</td>\n",
              "    </tr>\n",
              "    <tr>\n",
              "      <th>4</th>\n",
              "      <td>О5</td>\n",
              "      <td>8</td>\n",
              "      <td>0.64</td>\n",
              "      <td>0.83607</td>\n",
              "      <td>0.88333</td>\n",
              "      <td>1.07143</td>\n",
              "    </tr>\n",
              "    <tr>\n",
              "      <th>5</th>\n",
              "      <td>О6</td>\n",
              "      <td>8</td>\n",
              "      <td>0.51</td>\n",
              "      <td>0.94118</td>\n",
              "      <td>1.03774</td>\n",
              "      <td>0.84483</td>\n",
              "    </tr>\n",
              "    <tr>\n",
              "      <th>6</th>\n",
              "      <td>О7</td>\n",
              "      <td>8</td>\n",
              "      <td>0.88</td>\n",
              "      <td>1.25000</td>\n",
              "      <td>0.67000</td>\n",
              "      <td>1.17000</td>\n",
              "    </tr>\n",
              "    <tr>\n",
              "      <th>7</th>\n",
              "      <td>О8</td>\n",
              "      <td>8</td>\n",
              "      <td>0.50</td>\n",
              "      <td>0.71429</td>\n",
              "      <td>0.70455</td>\n",
              "      <td>1.00000</td>\n",
              "    </tr>\n",
              "    <tr>\n",
              "      <th>8</th>\n",
              "      <td>О9</td>\n",
              "      <td>8</td>\n",
              "      <td>0.32</td>\n",
              "      <td>0.95122</td>\n",
              "      <td>1.07317</td>\n",
              "      <td>1.06061</td>\n",
              "    </tr>\n",
              "  </tbody>\n",
              "</table>\n",
              "</div>\n",
              "    <div class=\"colab-df-buttons\">\n",
              "\n",
              "  <div class=\"colab-df-container\">\n",
              "    <button class=\"colab-df-convert\" onclick=\"convertToInteractive('df-1c7b544c-76ec-4649-82f7-1fd5c19c6840')\"\n",
              "            title=\"Convert this dataframe to an interactive table.\"\n",
              "            style=\"display:none;\">\n",
              "\n",
              "  <svg xmlns=\"http://www.w3.org/2000/svg\" height=\"24px\" viewBox=\"0 -960 960 960\">\n",
              "    <path d=\"M120-120v-720h720v720H120Zm60-500h600v-160H180v160Zm220 220h160v-160H400v160Zm0 220h160v-160H400v160ZM180-400h160v-160H180v160Zm440 0h160v-160H620v160ZM180-180h160v-160H180v160Zm440 0h160v-160H620v160Z\"/>\n",
              "  </svg>\n",
              "    </button>\n",
              "\n",
              "  <style>\n",
              "    .colab-df-container {\n",
              "      display:flex;\n",
              "      gap: 12px;\n",
              "    }\n",
              "\n",
              "    .colab-df-convert {\n",
              "      background-color: #E8F0FE;\n",
              "      border: none;\n",
              "      border-radius: 50%;\n",
              "      cursor: pointer;\n",
              "      display: none;\n",
              "      fill: #1967D2;\n",
              "      height: 32px;\n",
              "      padding: 0 0 0 0;\n",
              "      width: 32px;\n",
              "    }\n",
              "\n",
              "    .colab-df-convert:hover {\n",
              "      background-color: #E2EBFA;\n",
              "      box-shadow: 0px 1px 2px rgba(60, 64, 67, 0.3), 0px 1px 3px 1px rgba(60, 64, 67, 0.15);\n",
              "      fill: #174EA6;\n",
              "    }\n",
              "\n",
              "    .colab-df-buttons div {\n",
              "      margin-bottom: 4px;\n",
              "    }\n",
              "\n",
              "    [theme=dark] .colab-df-convert {\n",
              "      background-color: #3B4455;\n",
              "      fill: #D2E3FC;\n",
              "    }\n",
              "\n",
              "    [theme=dark] .colab-df-convert:hover {\n",
              "      background-color: #434B5C;\n",
              "      box-shadow: 0px 1px 3px 1px rgba(0, 0, 0, 0.15);\n",
              "      filter: drop-shadow(0px 1px 2px rgba(0, 0, 0, 0.3));\n",
              "      fill: #FFFFFF;\n",
              "    }\n",
              "  </style>\n",
              "\n",
              "    <script>\n",
              "      const buttonEl =\n",
              "        document.querySelector('#df-1c7b544c-76ec-4649-82f7-1fd5c19c6840 button.colab-df-convert');\n",
              "      buttonEl.style.display =\n",
              "        google.colab.kernel.accessAllowed ? 'block' : 'none';\n",
              "\n",
              "      async function convertToInteractive(key) {\n",
              "        const element = document.querySelector('#df-1c7b544c-76ec-4649-82f7-1fd5c19c6840');\n",
              "        const dataTable =\n",
              "          await google.colab.kernel.invokeFunction('convertToInteractive',\n",
              "                                                    [key], {});\n",
              "        if (!dataTable) return;\n",
              "\n",
              "        const docLinkHtml = 'Like what you see? Visit the ' +\n",
              "          '<a target=\"_blank\" href=https://colab.research.google.com/notebooks/data_table.ipynb>data table notebook</a>'\n",
              "          + ' to learn more about interactive tables.';\n",
              "        element.innerHTML = '';\n",
              "        dataTable['output_type'] = 'display_data';\n",
              "        await google.colab.output.renderOutput(dataTable, element);\n",
              "        const docLink = document.createElement('div');\n",
              "        docLink.innerHTML = docLinkHtml;\n",
              "        element.appendChild(docLink);\n",
              "      }\n",
              "    </script>\n",
              "  </div>\n",
              "\n",
              "\n",
              "<div id=\"df-fd92e47b-55c4-4af2-a452-a2ecccdb23f9\">\n",
              "  <button class=\"colab-df-quickchart\" onclick=\"quickchart('df-fd92e47b-55c4-4af2-a452-a2ecccdb23f9')\"\n",
              "            title=\"Suggest charts\"\n",
              "            style=\"display:none;\">\n",
              "\n",
              "<svg xmlns=\"http://www.w3.org/2000/svg\" height=\"24px\"viewBox=\"0 0 24 24\"\n",
              "     width=\"24px\">\n",
              "    <g>\n",
              "        <path d=\"M19 3H5c-1.1 0-2 .9-2 2v14c0 1.1.9 2 2 2h14c1.1 0 2-.9 2-2V5c0-1.1-.9-2-2-2zM9 17H7v-7h2v7zm4 0h-2V7h2v10zm4 0h-2v-4h2v4z\"/>\n",
              "    </g>\n",
              "</svg>\n",
              "  </button>\n",
              "\n",
              "<style>\n",
              "  .colab-df-quickchart {\n",
              "      --bg-color: #E8F0FE;\n",
              "      --fill-color: #1967D2;\n",
              "      --hover-bg-color: #E2EBFA;\n",
              "      --hover-fill-color: #174EA6;\n",
              "      --disabled-fill-color: #AAA;\n",
              "      --disabled-bg-color: #DDD;\n",
              "  }\n",
              "\n",
              "  [theme=dark] .colab-df-quickchart {\n",
              "      --bg-color: #3B4455;\n",
              "      --fill-color: #D2E3FC;\n",
              "      --hover-bg-color: #434B5C;\n",
              "      --hover-fill-color: #FFFFFF;\n",
              "      --disabled-bg-color: #3B4455;\n",
              "      --disabled-fill-color: #666;\n",
              "  }\n",
              "\n",
              "  .colab-df-quickchart {\n",
              "    background-color: var(--bg-color);\n",
              "    border: none;\n",
              "    border-radius: 50%;\n",
              "    cursor: pointer;\n",
              "    display: none;\n",
              "    fill: var(--fill-color);\n",
              "    height: 32px;\n",
              "    padding: 0;\n",
              "    width: 32px;\n",
              "  }\n",
              "\n",
              "  .colab-df-quickchart:hover {\n",
              "    background-color: var(--hover-bg-color);\n",
              "    box-shadow: 0 1px 2px rgba(60, 64, 67, 0.3), 0 1px 3px 1px rgba(60, 64, 67, 0.15);\n",
              "    fill: var(--button-hover-fill-color);\n",
              "  }\n",
              "\n",
              "  .colab-df-quickchart-complete:disabled,\n",
              "  .colab-df-quickchart-complete:disabled:hover {\n",
              "    background-color: var(--disabled-bg-color);\n",
              "    fill: var(--disabled-fill-color);\n",
              "    box-shadow: none;\n",
              "  }\n",
              "\n",
              "  .colab-df-spinner {\n",
              "    border: 2px solid var(--fill-color);\n",
              "    border-color: transparent;\n",
              "    border-bottom-color: var(--fill-color);\n",
              "    animation:\n",
              "      spin 1s steps(1) infinite;\n",
              "  }\n",
              "\n",
              "  @keyframes spin {\n",
              "    0% {\n",
              "      border-color: transparent;\n",
              "      border-bottom-color: var(--fill-color);\n",
              "      border-left-color: var(--fill-color);\n",
              "    }\n",
              "    20% {\n",
              "      border-color: transparent;\n",
              "      border-left-color: var(--fill-color);\n",
              "      border-top-color: var(--fill-color);\n",
              "    }\n",
              "    30% {\n",
              "      border-color: transparent;\n",
              "      border-left-color: var(--fill-color);\n",
              "      border-top-color: var(--fill-color);\n",
              "      border-right-color: var(--fill-color);\n",
              "    }\n",
              "    40% {\n",
              "      border-color: transparent;\n",
              "      border-right-color: var(--fill-color);\n",
              "      border-top-color: var(--fill-color);\n",
              "    }\n",
              "    60% {\n",
              "      border-color: transparent;\n",
              "      border-right-color: var(--fill-color);\n",
              "    }\n",
              "    80% {\n",
              "      border-color: transparent;\n",
              "      border-right-color: var(--fill-color);\n",
              "      border-bottom-color: var(--fill-color);\n",
              "    }\n",
              "    90% {\n",
              "      border-color: transparent;\n",
              "      border-bottom-color: var(--fill-color);\n",
              "    }\n",
              "  }\n",
              "</style>\n",
              "\n",
              "  <script>\n",
              "    async function quickchart(key) {\n",
              "      const quickchartButtonEl =\n",
              "        document.querySelector('#' + key + ' button');\n",
              "      quickchartButtonEl.disabled = true;  // To prevent multiple clicks.\n",
              "      quickchartButtonEl.classList.add('colab-df-spinner');\n",
              "      try {\n",
              "        const charts = await google.colab.kernel.invokeFunction(\n",
              "            'suggestCharts', [key], {});\n",
              "      } catch (error) {\n",
              "        console.error('Error during call to suggestCharts:', error);\n",
              "      }\n",
              "      quickchartButtonEl.classList.remove('colab-df-spinner');\n",
              "      quickchartButtonEl.classList.add('colab-df-quickchart-complete');\n",
              "    }\n",
              "    (() => {\n",
              "      let quickchartButtonEl =\n",
              "        document.querySelector('#df-fd92e47b-55c4-4af2-a452-a2ecccdb23f9 button');\n",
              "      quickchartButtonEl.style.display =\n",
              "        google.colab.kernel.accessAllowed ? 'block' : 'none';\n",
              "    })();\n",
              "  </script>\n",
              "</div>\n",
              "    </div>\n",
              "  </div>\n"
            ],
            "application/vnd.google.colaboratory.intrinsic+json": {
              "type": "dataframe",
              "variable_name": "data",
              "summary": "{\n  \"name\": \"data\",\n  \"rows\": 9,\n  \"fields\": [\n    {\n      \"column\": \"\\u0425\",\n      \"properties\": {\n        \"dtype\": \"string\",\n        \"num_unique_values\": 9,\n        \"samples\": [\n          \"\\u041e8\",\n          \"\\u041e2\",\n          \"\\u041e6\"\n        ],\n        \"semantic_type\": \"\",\n        \"description\": \"\"\n      }\n    },\n    {\n      \"column\": \"\\u04250\",\n      \"properties\": {\n        \"dtype\": \"number\",\n        \"std\": 0,\n        \"min\": 8,\n        \"max\": 8,\n        \"num_unique_values\": 1,\n        \"samples\": [\n          8\n        ],\n        \"semantic_type\": \"\",\n        \"description\": \"\"\n      }\n    },\n    {\n      \"column\": \"\\u04251\",\n      \"properties\": {\n        \"dtype\": \"number\",\n        \"std\": 0.1792344832893492,\n        \"min\": 0.32,\n        \"max\": 0.88,\n        \"num_unique_values\": 9,\n        \"samples\": [\n          0.5\n        ],\n        \"semantic_type\": \"\",\n        \"description\": \"\"\n      }\n    },\n    {\n      \"column\": \"\\u04252\",\n      \"properties\": {\n        \"dtype\": \"number\",\n        \"std\": 0.15874964567764485,\n        \"min\": 0.71429,\n        \"max\": 1.25,\n        \"num_unique_values\": 9,\n        \"samples\": [\n          0.71429\n        ],\n        \"semantic_type\": \"\",\n        \"description\": \"\"\n      }\n    },\n    {\n      \"column\": \"\\u04253\",\n      \"properties\": {\n        \"dtype\": \"number\",\n        \"std\": 0.15094783705343745,\n        \"min\": 0.67,\n        \"max\": 1.08571,\n        \"num_unique_values\": 9,\n        \"samples\": [\n          0.70455\n        ],\n        \"semantic_type\": \"\",\n        \"description\": \"\"\n      }\n    },\n    {\n      \"column\": \"Y\",\n      \"properties\": {\n        \"dtype\": \"number\",\n        \"std\": 0.09977032537282818,\n        \"min\": 0.84483,\n        \"max\": 1.17,\n        \"num_unique_values\": 9,\n        \"samples\": [\n          1.0\n        ],\n        \"semantic_type\": \"\",\n        \"description\": \"\"\n      }\n    }\n  ]\n}"
            }
          },
          "metadata": {},
          "execution_count": 20
        }
      ]
    },
    {
      "cell_type": "markdown",
      "source": [
        "#### Перевіряємо назви колонок у таблиці"
      ],
      "metadata": {
        "id": "rE6mHgnpfYxU"
      }
    },
    {
      "cell_type": "code",
      "source": [
        "data.columns"
      ],
      "metadata": {
        "colab": {
          "base_uri": "https://localhost:8080/"
        },
        "id": "3OcR7fRSfZXO",
        "outputId": "72d6e1f3-0239-4fdb-f164-b45548635eff"
      },
      "execution_count": 23,
      "outputs": [
        {
          "output_type": "execute_result",
          "data": {
            "text/plain": [
              "Index(['Х', 'Х0', 'Х1', 'Х2', 'Х3', 'Y'], dtype='object')"
            ]
          },
          "metadata": {},
          "execution_count": 23
        }
      ]
    },
    {
      "cell_type": "markdown",
      "source": [
        "###Побудова моделі"
      ],
      "metadata": {
        "id": "KId-PhmZeiJj"
      }
    },
    {
      "cell_type": "code",
      "source": [
        "# Розділяємо змінні після додавання X0\n",
        "X = data[['Х0', 'Х1', 'Х2', 'Х3']].values\n",
        "Y = data['Y'].values.reshape(-1, 1)\n",
        "\n",
        "# Розрахунок параметрів моделі за формулою МНК\n",
        "alpha = np.linalg.inv(X.T @ X) @ X.T @ Y\n",
        "\n",
        "# Виводимо отримані параметри\n",
        "print(\"Параметри моделі (alpha):\\n\", alpha)"
      ],
      "metadata": {
        "colab": {
          "base_uri": "https://localhost:8080/"
        },
        "id": "4luSqsi0ekcc",
        "outputId": "bf84a381-de99-4864-de2e-94c26b6f7522"
      },
      "execution_count": 25,
      "outputs": [
        {
          "output_type": "stream",
          "name": "stdout",
          "text": [
            "Параметри моделі (alpha):\n",
            " [[ 0.16287814]\n",
            " [-0.20149664]\n",
            " [ 0.2258947 ]\n",
            " [-0.42002923]]\n"
          ]
        }
      ]
    },
    {
      "cell_type": "markdown",
      "source": [
        "###Оцінка якості моделі"
      ],
      "metadata": {
        "id": "KmRXEhRcgNCt"
      }
    },
    {
      "cell_type": "code",
      "source": [
        "# Прогнозування\n",
        "Y_pred = X @ alpha\n",
        "\n",
        "# Розрахунок метрик\n",
        "r2 = r2_score(Y, Y_pred)\n",
        "mse = mean_squared_error(Y, Y_pred)\n",
        "rmse = np.sqrt(mse)\n",
        "nrmse = rmse / np.mean(Y) * 100\n",
        "\n",
        "# Виводимо метрики\n",
        "print(f\"R^2: {r2}\")\n",
        "print(f\"MSE: {mse}\")\n",
        "print(f\"RMSE: {rmse}\")\n",
        "print(f\"NRMSE: {nrmse}%\")"
      ],
      "metadata": {
        "colab": {
          "base_uri": "https://localhost:8080/"
        },
        "id": "DQNQcm6NgN1F",
        "outputId": "8879407c-7055-45bc-b372-29838025f23e"
      },
      "execution_count": 26,
      "outputs": [
        {
          "output_type": "stream",
          "name": "stdout",
          "text": [
            "R^2: 0.31807557721113966\n",
            "MSE: 0.006033738713053716\n",
            "RMSE: 0.07767714408404647\n",
            "NRMSE: 7.683655220294622%\n"
          ]
        }
      ]
    },
    {
      "cell_type": "markdown",
      "source": [
        "###Візуалізація моделі"
      ],
      "metadata": {
        "id": "TgCIX2TpgV0g"
      }
    },
    {
      "cell_type": "code",
      "source": [
        "# Візуалізація\n",
        "plt.figure(figsize=(10, 6))\n",
        "plt.plot(Y, label=\"Фактичні значення\", marker='o')\n",
        "plt.plot(Y_pred, label=\"Прогнозовані значення з константою\", marker='x')\n",
        "plt.title(\"Порівняння фактичних і прогнозованих значень\")\n",
        "plt.xlabel(\"Індекс\")\n",
        "plt.ylabel(\"Y\")\n",
        "plt.legend()\n",
        "plt.grid()\n",
        "plt.show()"
      ],
      "metadata": {
        "colab": {
          "base_uri": "https://localhost:8080/",
          "height": 563
        },
        "id": "7DbD-__ggWwN",
        "outputId": "1f72f252-7f64-441f-a692-7d24ca99447d"
      },
      "execution_count": 27,
      "outputs": [
        {
          "output_type": "display_data",
          "data": {
            "text/plain": [
              "<Figure size 1000x600 with 1 Axes>"
            ],
            "image/png": "[encoded data removed]"
          },
          "metadata": {}
        }
      ]
    },
    {
      "cell_type": "markdown",
      "source": [
        "##Висновок\n",
        "У цій роботі ми навчились застосовувати метод найменших квадратів (МНК) для побудови лінійної регресійної моделі. Було розглянуто дві моделі: одна без вільного члена, а інша – з доданим вільним членом, значення якого дорівнює номеру варіанту. Ми дослідили процес оцінки параметрів моделі за допомогою матричного методу, а також виконали візуалізацію прогнозованих значень у порівнянні з фактичними даними.\n",
        "\n",
        "Для кожної моделі було розраховано основні метрики якості:\n",
        "\n",
        "- Коефіцієнт детермінації (R²): показує, наскільки добре модель описує залежність між змінними.\n",
        "- Середньоквадратична похибка (MSE): визначає середню похибку моделі.\n",
        "- Корінь середньоквадратичної похибки (RMSE): спрощує інтерпретацію MSE.\n",
        "- Нормалізована RMSE (NRMSE): дозволяє оцінити точність моделі відносно середнього значення даних.\n",
        "\n",
        "За результатами роботи видно, що точність моделі залежить від її структури (наявності або відсутності вільного члена). Вільний член покращив узгодження прогнозів із реальними даними."
      ],
      "metadata": {
        "id": "hSAM8Iuxh2GX"
      }
    }
  ]
}